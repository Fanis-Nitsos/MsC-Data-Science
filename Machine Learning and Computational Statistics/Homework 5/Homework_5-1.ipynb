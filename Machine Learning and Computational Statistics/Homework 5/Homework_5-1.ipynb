{
 "cells": [
  {
   "cell_type": "markdown",
   "id": "d5e78bc9-458c-4ea7-ab2b-c662f0e9c337",
   "metadata": {},
   "source": [
    "# 5th Homework\n",
    "## Theofanis Nitsos - p3352325"
   ]
  },
  {
   "cell_type": "markdown",
   "id": "9b8e4d16-0bcc-419a-a5da-4012ecd1d346",
   "metadata": {},
   "source": [
    "## Exercise 1 \n",
    "1, 3, 4\n",
    "\n",
    "## Exercise 2\n",
    "1\n",
    "\n",
    "## Exercise 3\n",
    "3\n",
    "\n",
    "## Exercise 4\n",
    "2\n",
    "\n",
    "## Exercise 5\n",
    "4\n",
    "\n",
    "## Exercise 6\n",
    "4, 1\n",
    "\n",
    "## Exercise 7\n",
    "2\n",
    "\n",
    "## Exercise 8\n",
    "2\n",
    "\n",
    "## Exercise 9\n",
    "3\n",
    "\n",
    "## Exercise 10\n",
    "3,4\n",
    "\n",
    "## Exercise 11\n",
    "3, 4"
   ]
  },
  {
   "cell_type": "code",
   "execution_count": 22,
   "id": "2d5fa4b2-87a2-4c2c-98ad-d53c5a54e901",
   "metadata": {},
   "outputs": [
    {
     "name": "stdout",
     "output_type": "stream",
     "text": [
      "The value of p(x) for x = [2, 1]^T is: 0.029444872276459633\n"
     ]
    }
   ],
   "source": [
    "import numpy as np\n",
    "from scipy.stats import multivariate_normal\n",
    "\n",
    "# Define mean vector and covariance matrix\n",
    "mean_vector = np.array([1, 2])\n",
    "covariance_matrix = np.array([[4, 1], [1, 4]])\n",
    "\n",
    "# Define the value at which to evaluate the PDF\n",
    "x_value = np.array([2, 1])\n",
    "\n",
    "# Create a multivariate Gaussian distribution\n",
    "multivariate_gaussian = multivariate_normal(mean=mean_vector, cov=covariance_matrix)\n",
    "\n",
    "# Calculate the PDF value at x_value\n",
    "pdf_value = multivariate_gaussian.pdf(x_value)\n",
    "\n",
    "print(f\"The value of p(x) for x = [2, 1]^T is: {pdf_value}\")\n"
   ]
  },
  {
   "cell_type": "markdown",
   "id": "5a796bde-d84b-4183-a795-b674ef577f2c",
   "metadata": {},
   "source": [
    "## Exercise 12\n",
    "\n",
    "#### (a)\n",
    "\n",
    "The log-likelihood of $\\boldsymbol{\\theta}$ with relation to $X$ is  \n",
    "\n",
    "$L(\\theta) = \\sum_{i=1}^{N} ln \\left( \\theta ^2 \\, x \\, exp(-\\theta x) \\right) = \\sum_{i=1}^{N} \\left( 2 ln(\\theta) + ln(x) - \\theta \\, x \\right)$\n",
    "\n",
    "To calculate the ML estimate we need the derivative. Thus, \n",
    "\n",
    "$ \\theta_{ML} : \\frac{\\partial L(\\theta)}{\\partial(\\theta)} = 0$  \n",
    "$ \\frac{\\partial L(\\theta)}{\\partial(\\theta)} = \\sum_{i=1}^{N} \\left( 2 \\frac{1}{\\theta} - x \\right) = 2 \\sum_{i=1}^{N} (\\frac{1}{\\theta}) -\\sum_{i=1}^{N} (x) \\Rightarrow$  \n",
    "$ \\Rightarrow 2 \\frac{N}{\\theta} -\\sum_{i=1}^{N} (x) = 0 \\Rightarrow \\theta_{ML} = \\frac{2N}{\\sum_{i=1}^{N} (x)}$\n",
    "\n",
    "#### (b)\n",
    "\n",
    "$ \\theta_{ML} = \\frac{2 \\, 5}{2 + 2.2 + 2.7 + 2.4 + 2.6} = 0.84$  \n",
    "$ \\theta_{ML} = 0.84$\n",
    "\n",
    "$ p(x = 2.3) = \\theta_{ML}^2 x \\, exp(-\\theta_{ML} \\, x) u(x) $  \n",
    "$ p(x = 2.3) = 0.235$  \n",
    "$ p(x = 2.9) = 0.179$\n"
   ]
  },
  {
   "cell_type": "code",
   "execution_count": 5,
   "id": "f6ef2169-c257-4d93-8ce2-5d23355cbc0f",
   "metadata": {},
   "outputs": [
    {
     "name": "stdout",
     "output_type": "stream",
     "text": [
      "0.8403361344537815 0.2350938223304054 0.1790355898064191\n"
     ]
    }
   ],
   "source": [
    "import math\n",
    "theta_ML = 2*5 /(2 + 2.2 + 2.7 + 2.4 + 2.6)\n",
    "\n",
    "p_23 = theta_ML**2 *2.3 * math.exp(-theta_ML * 2.3) \n",
    "\n",
    "p_29 = theta_ML**2 *2.9 * math.exp(-theta_ML * 2.9)\n",
    "\n",
    "print(theta_ML, p_23,p_29)"
   ]
  },
  {
   "cell_type": "markdown",
   "id": "4c78a4a5-ab28-4f15-810f-013d615584a2",
   "metadata": {},
   "source": [
    "## Exercise 13\n",
    "\n",
    "$ \\theta_{MAP} = argmax_{\\theta} ln \\left(p(\\theta) \\, p(Y| \\theta) \\right) = argmax_{\\theta} \\, ln \\left(\\frac{1}{\\sqrt{2\\pi} \\sigma_0} exp(-\\frac{|| \\theta - \\theta_0||^2}{2 \\sigma_0^2}) \\; \\Pi_{i=1}^{N} \\left( 2 \\, \\theta \\, exp(-\\theta \\, x^2) \\right) \\right)$ "
   ]
  },
  {
   "cell_type": "markdown",
   "id": "85137f3f-ced5-4e3f-aa79-e2e808cb0d77",
   "metadata": {},
   "source": [
    "#### (a)\n",
    "$ \\theta_{MAP} = argmax_{\\theta} ln \\left(p(\\theta) \\, p(Y| \\theta) \\right) = argmax_{\\theta} \\, ln \\left(\\frac{1}{(2\\pi)^(1/2) \\sigma_0} exp(-\\frac{|| \\theta - \\theta_0||^2}{2 \\sigma_0^2}) \\; \\Pi_{i=1}^{N} \\left( 2 \\, \\theta \\, exp(-\\theta \\, x^2) \\right) \\right)$  \n",
    "\n",
    "$ \\theta_{MAP} = argmax_{\\theta} \\, \\left ( ln(\\frac{1}{\\sqrt{2\\pi} \\sigma_0}) -\\frac{|| \\theta - \\theta_0||^2}{2 \\sigma_0^2}  \\sum_{i=1}^{N} \\left(ln(2)+ln(\\theta) - \\theta \\, x^2 \\right) \\right) $ using the derivative   \n",
    "\n",
    "$ \\frac{\\partial \\; ln \\left(p(\\theta) \\, p(Y| \\theta) \\right)}{\\partial \\theta} = 0 \\Rightarrow -\\frac{1}{\\sigma_0^2} \\; (\\theta-\\theta_0) + \\frac{N}{\\theta} - \\sum_{i=1}^{N}x^2 =0 \\; $ assuming $\\theta \\neq 0$    \n",
    "\n",
    "$ \\frac{\\theta^2}{\\sigma_0^2} - \\theta (\\frac{\\theta_0}{\\sigma_0^2} + \\sum_{i=1}^{N}x^2 ) + N  = 0 \\; (1) \\Rightarrow$  \n",
    "\n",
    "$ \\theta = \\frac{(\\frac{\\theta_0}{\\sigma_0^2} + \\sum_{i=1}^{N}x^2 ) \\pm \\sqrt{(\\frac{\\theta_0}{\\sigma_0^2} + \\sum_{i=1}^{N}x^2 )^2 - 4 \\frac{1}{\\sigma_0^2} \\, N } }{ 2\\frac{1}{\\sigma_0^2}} \\; (2)$   \n",
    "\n",
    "#### (b)\n",
    "\n",
    "- for $ N \\rightarrow \\infty$ from equation (1) and (2) $ \\Rightarrow \\theta = \\frac{(\\sum_{i=1}^{N}x^2 ) \\pm \\sqrt{(\\sum_{i=1}^{N}x^2 )^2 - 4 \\frac{1}{\\sigma_0^2} \\, N } }{ 2\\frac{1}{\\sigma_0^2}} \\;$\n",
    "- for $ \\sigma_0^2 >> $ equation (1) can be written $ - \\theta ( \\sum_{i=1}^{N}x^2 ) + N  = 0$ or $ \\theta = \\frac{N}{\\sum_{i=1}^{N}x^2}$\n",
    "- for $ \\sigma_0^2 << \\Rightarrow$ assuming a finite N we can neglect the terms that include $\\sigma$ as very small and consider terms calcuated with $\\frac{1}{\\sigma_0^2}$ as very important (big) $ \\theta = \\frac{(\\frac{\\theta_0}{\\sigma_0^2}) \\pm \\sqrt{(\\frac{\\theta_0}{\\sigma_0^2})^2 - 4 \\frac{1}{\\sigma_0^2} \\, N } }{ 2\\frac{1}{\\sigma_0^2}} = \\frac{\\frac{\\theta_0}{\\sigma_0^2} \\pm \\frac{1}{\\sigma_0}\\sqrt{(\\frac{\\theta_0}{\\sigma_0})^2 - 4 \\, N } }{ 2\\frac{1}{\\sigma_0^2}} = \\frac{\\frac{\\theta_0}{\\sigma_0} \\pm \\sqrt{(\\frac{\\theta_0}{\\sigma_0})^2 - 4 \\, N } }{ 2\\frac{1}{\\sigma_0}} = \\frac{\\frac{\\theta_0}{\\sigma_0} \\pm \\sqrt{(\\frac{\\theta_0}{\\sigma_0})^2 } }{ 2\\frac{1}{\\sigma_0}} = \\frac{\\frac{\\theta_0}{\\sigma_0} \\pm \\frac{\\theta_0}{\\sigma_0} }{ 2\\frac{1}{\\sigma_0}} = 0 \\; or \\; \\theta_0  $   \n",
    "\n",
    "$ \\theta_{MAP} = 30.285 \\; and \\; 0.165$\n",
    "\n",
    "$ p(2.3) = ~0 \\; and \\;  0.317$\n",
    "$ p(2.9) = ~0 \\;  and \\; 0.239$\n",
    "\n",
    "\n",
    "\n",
    "\n"
   ]
  },
  {
   "cell_type": "code",
   "execution_count": 32,
   "id": "87fe9718-991b-4964-a56f-e02863c16111",
   "metadata": {},
   "outputs": [
    {
     "name": "stdout",
     "output_type": "stream",
     "text": [
      "30.284901228095755 0.16509877190424582 4.281326984433747e-109 0.23887040305711466\n"
     ]
    }
   ],
   "source": [
    "theta_0 = 1.8\n",
    "sum_x2 = (2**2 + 2.2**2 + 2.7**2 + 2.4**2 +2.6**2)\n",
    "s0 = 1\n",
    "N = 5 \n",
    "theta_MAP_1 = ((theta_0/s0**2 + sum_x2) + math.sqrt((theta_0/s0**2 + sum_x2)**2 - 4 * (1/s0**2)* N))/(2 * 1/s0**2) \n",
    "theta_MAP_2 = ((theta_0/s0**2 + sum_x2) - math.sqrt((theta_0/s0**2 + sum_x2)**2 - 4 * (1/s0**2)* N))/(2 * 1/s0**2) \n",
    "\n",
    "#p_23 = 2 * theta_MAP_1\n",
    "\n",
    "print(theta_MAP_1, theta_MAP_2, 2*theta_MAP_1 * 2.9 *math.e**(-theta_MAP_1*2.9**2), 2*theta_MAP_2 * 2.9 *math.e**(-theta_MAP_2*2.9**2))"
   ]
  },
  {
   "cell_type": "code",
   "execution_count": 30,
   "id": "b19ba2cb-8ff4-495f-9175-e29e44e68fcf",
   "metadata": {},
   "outputs": [
    {
     "data": {
      "text/plain": [
       "3.6890331674438534e-68"
      ]
     },
     "execution_count": 30,
     "metadata": {},
     "output_type": "execute_result"
    }
   ],
   "source": [
    "2*theta_MAP_1 * 2.3 * math.e**(-theta_MAP_1*(2.3**2))"
   ]
  },
  {
   "cell_type": "markdown",
   "id": "c5d976de-10f8-470a-ae3c-a5ab7515bdf6",
   "metadata": {},
   "source": [
    "## Exercise 14"
   ]
  },
  {
   "cell_type": "markdown",
   "id": "2720a223-3c1c-494d-82e7-8fb847b1152c",
   "metadata": {},
   "source": [
    "for $x \\geq 0$  \n",
    "$ ln \\left( p(\\lambda) \\; p(Y|\\lambda) \\right) = ln \\left (\\frac{b^a}{\\Gamma(a)} \\lambda ^{a-1} e^{-b\\lambda} \\Pi_{i=1}^{N} (\\lambda e^{-\\lambda x}) \\right) = a ln(\\lambda) - ln(\\Gamma(a)) + (a-1)ln(\\lambda) - b\\lambda + \\sum_{i=1}^{N} (ln(\\lambda) - \\lambda x)$  \n",
    "\n",
    "$\\frac{\\partial \\; ln \\left(p(\\lambda) \\, p(Y| \\lambda \\right)}{\\partial \\theta} = 0  \\Rightarrow \\frac{a-1}{\\lambda} -b + \\sum_{i=1}^{N} (\\frac{1}{\\lambda} - x)= 0 \\Rightarrow \\frac{a-1}{\\lambda} -b + \\frac{N}{\\lambda} - \\sum_{i=1}^{N}x= 0 \\Rightarrow \\lambda = \\frac{a-1+N}{b+\\sum_{i=1}^{N} x}$ "
   ]
  },
  {
   "cell_type": "markdown",
   "id": "523e7b36-85a7-4540-b016-25f73604032d",
   "metadata": {},
   "source": [
    "#### (c)\n",
    "\n",
    "$p(x|\\lambda) = \\frac{a-1+N}{b+\\sum_{i=1}^{N}x} \\; e^{-\\frac{a-1+N}{b+\\sum_{i=1}^{N}x} \\, x}$\n",
    "\n",
    "#### (d)\n",
    "\n",
    "$ p(\\lambda | Y) = \\frac{p(\\lambda) \\, p(Y|\\theta)}{p(Y)} = \\frac{(\\frac{b^a}{\\Gamma(a)} \\lambda ^{a-1} e^{-b\\lambda} \\Pi_{i=1}^{N} (\\lambda e^{-\\lambda x})}{p(Y)} = \\frac{b^a}{P(y) \\Gamma(a)} \\left(\\lambda^{a-1+N} e^{-\\lambda (1 + \\sum(x))} \\right) = \\frac{b^a}{P(y) \\Gamma(a)} \\left(\\lambda^{(a+N)-1} e^{-\\lambda (1 + \\sum(x))} \\right)$  \n",
    "\n",
    "Thus we can say it is a gamma distribution with parameters $ r = a+N-1 $ and $ s = 1 + \\sum(x)$"
   ]
  },
  {
   "cell_type": "markdown",
   "id": "285f507d-8c35-43bc-bd62-a7b33b01f6e3",
   "metadata": {},
   "source": [
    "#### (e)\n",
    "\n",
    "$p(\\lambda) = \\frac{b^a}{\\Gamma(a)} \\lambda^{a-1} e^{-b\\lambda}$  \n",
    "$  p(\\lambda | Y) = \\frac{b^a}{P(y) \\Gamma(a)} \\left(\\lambda^{(a+N)-1} e^{-\\lambda (1 + \\sum(x))} \\right) $  \n",
    "\n",
    "Comparing the two forms we can define for the $  p(\\lambda | Y)$ that $a' = (a+N)$  and $ b' = 1 + \\sum(x)$"
   ]
  },
  {
   "cell_type": "markdown",
   "id": "6a9418eb-927c-446f-a684-a366484e535f",
   "metadata": {},
   "source": [
    "#### (f)\n",
    "\n",
    "$p(x|Y) = \\int p(x|\\lambda) \\; p(\\lambda|Y) $\n",
    "\n",
    "#### (g)\n",
    "\n",
    "$p(x) = 0.412 \\, e^{-0.412 x} $\n",
    "\n",
    "#### (i)\n",
    "$p(2.5) = 1.154$\n"
   ]
  },
  {
   "cell_type": "code",
   "execution_count": 14,
   "id": "093f2e00-da0b-40d9-bb2a-50e7cb668cbc",
   "metadata": {},
   "outputs": [
    {
     "name": "stdout",
     "output_type": "stream",
     "text": [
      "0.4117647058823529 -0.4117647058823529 1.1540391238960206\n"
     ]
    }
   ],
   "source": [
    "a = 2\n",
    "b = 2\n",
    "sum_x = 2.8 + 2.4 +2.9 + 2.6 + 2.1 + 2.2\n",
    "N = 6\n",
    "print((a-1+N)/(b+sum_x), -(a-1+N)/(b+sum_x), 0.412 * math.e**(0.412 * 2.5))"
   ]
  },
  {
   "cell_type": "markdown",
   "id": "192deeee-4c08-41ed-8f16-65433ff2e5e5",
   "metadata": {},
   "source": [
    "## Exercise 15\n",
    "\n",
    "Defining the Lagrangian function we can calculate: \n",
    "$ L(\\theta) = \\sum_{n=1}^{N} (x_n-\\theta)^2 + \\lambda ((\\theta - \\theta_0)^2 - \\rho)$  \n",
    "$ \\frac{\\partial(L(\\theta))}{\\partial(\\lambda)} = 0 \\Rightarrow \\sum_{n=1}^{N} (-2)(x_n -\\theta) + \\lambda (2(\\theta - \\theta_0))= 0 \\Rightarrow \\sum_{n=1}^{N} x_n - N \\theta = \\lambda \\theta - \\lambda \\theta_0 \\Rightarrow \\theta = \\frac{\\sum_{n=1}^{N} x_n + \\lambda \\theta_0}{\\lambda + N}$"
   ]
  },
  {
   "cell_type": "code",
   "execution_count": null,
   "id": "c8e413cf-7963-4562-a0e1-f85048879bfb",
   "metadata": {},
   "outputs": [],
   "source": []
  }
 ],
 "metadata": {
  "kernelspec": {
   "display_name": "Python 3 (ipykernel)",
   "language": "python",
   "name": "python3"
  },
  "language_info": {
   "codemirror_mode": {
    "name": "ipython",
    "version": 3
   },
   "file_extension": ".py",
   "mimetype": "text/x-python",
   "name": "python",
   "nbconvert_exporter": "python",
   "pygments_lexer": "ipython3",
   "version": "3.10.1"
  }
 },
 "nbformat": 4,
 "nbformat_minor": 5
}
