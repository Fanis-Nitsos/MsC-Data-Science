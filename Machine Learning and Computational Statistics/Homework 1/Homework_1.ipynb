{
 "cells": [
  {
   "cell_type": "markdown",
   "id": "dac7655d",
   "metadata": {},
   "source": [
    "# 1st Homework\n",
    "## Theofanis Nitsos - p3352325"
   ]
  },
  {
   "cell_type": "markdown",
   "id": "7e19127b",
   "metadata": {},
   "source": [
    "## Excercise 1\n",
    "#### (a)\n",
    "To determine the parameters involved in the equations we will express them in the form\n",
    "$  y = \\matrix{[\\theta_0&\\boldsymbol{\\theta}]} \\left[\\matrix{1\\\\x}\\right]$ where the array $\\matrix{[\\theta_0&\\boldsymbol{\\theta}]}$ includes the parameters"
   ]
  },
  {
   "cell_type": "markdown",
   "id": "9e3cf285",
   "metadata": {},
   "source": [
    "$(i) \\hspace{0,2cm}y = \\theta_0 + theta_1 x_1 + theta_2 x_2 + theta_3 x_1 x_2 + x_1 ^2 =  \\matrix{[\\theta_0&\\theta_1&\\theta_2&\\theta_3&1]} \\left[\\matrix{1\\\\x_1\\\\x_2\\\\x_1 x_2\\\\x_1 ^2}\\right] \\\\\n",
    "(ii) \\hspace{0,2cm}y = sign \\left(\\theta_0 + \\theta_1 x_1 + \\theta_2 x_2 + \\theta_3 x_1 x_2 + \\theta_4 x_1 ^2 \\right) = sign \\left(\\matrix{[\\theta_0&\\theta_1&\\theta_2&\\theta_3&\\theta_4]} \\left[\\matrix{1\\\\x_1\\\\x_2\\\\x_1 x_2\\\\x_1 ^2}\\right] \\right) \\\\\n",
    "(iii) \\hspace{0,2cm}y = 2 x_1 + sign(3-7) x_2 + ReLU(3) x_1 x_2 = 2 x_1 + 0 + 3 x_1 x_2  = \\matrix{[2&3]}\\left[\\matrix{x_1\\\\x_1 x_2}\\right] \\\\\n",
    "(iv)\\hspace{0,2cm} y = \\theta + \\theta x_1 + \\theta x_2 + \\theta x_1 x_2 = \\matrix{[\\theta&\\theta&\\theta&\\theta]} \\left[\\matrix{1\\\\x_1\\\\x_2\\\\x_1 x_2}\\right] $\n"
   ]
  },
  {
   "cell_type": "markdown",
   "id": "d11f28cb",
   "metadata": {},
   "source": [
    "Thus the parameters for each equation are:\n",
    "\n",
    "(i) 4 parameters & 1 fixed constant:  $\\matrix{[\\theta_0&\\theta_1&\\theta_2&\\theta_3&1]}$  \n",
    "(ii) 5 parameters : $\\matrix{[\\theta_0&\\theta_1&\\theta_2&\\theta_3&\\theta_4]}$  \n",
    "(iii) 0 parameters & 2 fixed constants : $\\matrix{[2&3]}$  \n",
    "(iv) 4 parameters : $\\matrix{[\\theta&\\theta&\\theta&\\theta]}$  "
   ]
  },
  {
   "cell_type": "markdown",
   "id": "f1ff130c",
   "metadata": {},
   "source": [
    "#### (b)"
   ]
  },
  {
   "cell_type": "markdown",
   "id": "32cd5b5e",
   "metadata": {},
   "source": [
    "Linear independence is usually defined and used in the context of vectors. \n",
    "Linearity with respect to the parameters is interpreted as if the $\\boldsymbol{x}$ vector is constant. None of these equations are linear with respect to $\\boldsymbol{x}$ as there are terms such as $x^2$.  \n",
    "\n",
    "In equation (iv) $y$ is linearly dependent to $\\theta$ as $\\theta$ is the common factor $y= \\theta \\hspace{0,2cm} [\\matrix{1& 1& 1& 1}] \\left[\\matrix{1\\\\x_1\\\\x_2\\\\x_1 x_2}\\right] = \\theta \\hspace{0,2cm}(1 + x_1 + x_2 + x_1 x_2)$\n",
    "\n",
    "In equation (i) $y$ is linearly dependent to $\\boldsymbol{\\theta}$ and can be written in the form $ y = \\boldsymbol{\\theta}^T \\boldsymbol{x}$ \n",
    "   \n",
    "   "
   ]
  },
  {
   "cell_type": "markdown",
   "id": "2cba0243",
   "metadata": {},
   "source": [
    "## Excercise 2"
   ]
  },
  {
   "cell_type": "markdown",
   "id": "4764caca",
   "metadata": {},
   "source": [
    "Based on the definition that a parametric model involves a set of parameters, whose number is fixed while non parametric models either involve no parameters or involves parameters, whose number depends on the size of the data set X:  \n",
    "- 1 and 3 are parametric models\n",
    "- 2 has no parameters and 4 is not parametric as the parameter's number depend on the size of the data\n"
   ]
  },
  {
   "cell_type": "markdown",
   "id": "f991f45e",
   "metadata": {},
   "source": [
    "## Excercise 3"
   ]
  },
  {
   "cell_type": "markdown",
   "id": "0dee23c8",
   "metadata": {},
   "source": [
    "#### (a) \n",
    "The general form of the qudratic equation is $ f_{\\theta}(x) = \\theta_0 + \\theta_1 x + \\theta_2 x^2 = \\matrix{[\\theta_0&\\theta_1&\\theta_2]}  \\left[\\matrix{1\\\\x\\\\x^2}\\right]$  \n",
    "Instance 1: $ f_{\\theta}(x) = 1 + 2x - 3x^2$, in this case $\\theta = [1,2,-3]$  \n",
    "Instance 2: $ f_{\\theta}(x) = 0 + 4x - 1.5x^2$, in this case $\\theta = [0,4,-1.5]$  \n",
    "The dimensionality of $\\boldsymbol{\\theta}$ is 3"
   ]
  },
  {
   "cell_type": "markdown",
   "id": "06c09e83",
   "metadata": {},
   "source": [
    "#### (b)  \n",
    "The general form of the 3rd degree polynomials $f_{\\theta}: R^2 \\rightarrow R$ is $ \n",
    "f_{\\theta}(x_1, x_2) = \\theta_0 + \\theta_1 x_1 + \\theta_2 x_2 + \\theta_3 x_1^2 + \\theta_4 x_1 x_2 + \\theta_5 x_2^2 + \\theta_6 x_1^3 + \\theta_7 x_1^2 x_2 + \\theta_8 x_1 x_2^2 + \\theta_9 x_2^3 = \\matrix{[\\theta_0&\\theta_1&\\theta_2&\\theta_3&\\theta_4&\\theta_5&\\theta_6&\\theta_7&\\theta_8&\\theta_9]}  \\left[\\matrix{1\\\\x_1\\\\x_2\\\\x_1^2\\\\x_1 x_2\\\\x_2^2\\\\x_1^3\\\\x_1^2 x_2\\\\x_1 x_2^2\\\\x_2^3}\\right]$  \n",
    "Instance 1: $ f_{\\theta}(x) = 1 + 2x_1 + 3x_2 + 4 x_1^2 + 5x_1 x_2 + 6 x_2^2 + 7 x_1^3 + 8 x_1^2 x_2 + 9 x_1 x_2^2 + 10 x_2^3 $, in this case $\\theta = [1,2,3,4,5,6,7,8,9,10]$  \n",
    "Instance 2: $ f_{\\theta}(x) = 0 + 2x_1 - 3x_2 + 2 x_1^2 + 5x_1 x_2 + x_2^2 - x_1^3 + 2 x_1^2 x_2 + x_1 x_2^2 + 3 x_2^3$, in this case $\\theta = [0,2,-3,2,5,1,-1,2,-1,3]$\n",
    "The dimensionality of of $\\boldsymbol{\\theta}$ is 10"
   ]
  },
  {
   "cell_type": "markdown",
   "id": "32835b04",
   "metadata": {},
   "source": [
    "#### (c)  \n",
    "The general form of the 3rd degree polynomials $f_{\\theta}: R^3 \\rightarrow R$ is\n",
    "$ f_{\\theta}(x_1, x_2, x_3) = \\theta_0 + \\theta_1 x_1 + \\theta_2 x_2 + \\theta_3 x_3 + \\theta_4 x_1^2 + \\theta_5 x_1x_2 + \\theta_6 x_1x_3 + \\theta_7 x_2^2 + \\theta_8 x_2x_3 + \\theta_9 x_3^2 + \\theta_{10} x_1^3 + \\theta_{11} x_1^2x_2 + \\theta_{12} x_1^2x_3 + \\theta_{13} x_1x_2^2 + \\theta_{14} x_1x_2x_3 + \\theta_{15} x_1x_3^2 + \\theta_{16} x_2^3 + \\theta_{17} x_2^2x_3 + \\theta_{18} x_2x_3^2 + \\theta_{19} x_3^3$\n",
    "\n",
    "Instance 1: $f_{\\theta}(x_1, x_2, x_3) = 1 + 2 x_1 + 3 x_2 + 4 x_3 + 5 x_1^2 + 6 x_1x_2 + 7 x_1x_3 + 8 x_2^2 + 9 x_2x_3 + 10 x_3^2 + 11 x_1^3 + 12 x_1^2x_2 + 13 x_1^2x_3 + 14 x_1x_2^2 + 15 x_1x_2x_3 + 16 x_1x_3^2 + 17 x_2^3 + 18 x_2^2x_3 + 19 x_2x_3^2 + 20 x_3^3$\n",
    "\n",
    "Instance 2: $f_{\\theta}(x_1, x_2, x_3) = 0 + 2 x_1 - 3 x_2 + 2 x_3 + 2 x_1^2 + 5 x_1x_2 + x_1x_3 - x_1^3 + 2 x_1^2x_2 + 3 x_1^2x_3 + x_1x_2^2 + 2 x_1x_2x_3 + 3 x_1x_3^2 + x_2^3 + 2 x_2^2x_3 + x_2x_3^2 + 3 x_3^3$\n",
    "\n",
    "The dimensionality of $ \\boldsymbol{\\theta}$ is 20"
   ]
  },
  {
   "cell_type": "markdown",
   "id": "0ecdd764",
   "metadata": {},
   "source": [
    "#### (d)\n",
    "The input space $\\boldsymbol{x}$ is a vector in $\\mathbb{R}^5$ thus a 5-dimensional vector.  As such the vector $\\boldsymbol{\\theta}$ should be a 5-dimensional vector as well.\n",
    "\n",
    "$ \\boldsymbol{x} = [\\matrix{x_0&x_1&x_2&x_3&x_4}]^T$  \n",
    "$ \\boldsymbol{\\theta} = [\\matrix{\\theta_0&\\theta_1&\\theta_2&\\theta_3&\\theta_4}]^T$  \n",
    "\n",
    "Two instances of the parametric set could be:  \n",
    "$\\boldsymbol{\\theta} = [\\matrix{1&2&3&4&5}]^T$  \n",
    "$\\boldsymbol{\\theta} = [\\matrix{0.5&-1&2&3&-0.5}]^T$\n",
    "\n",
    "The dimensionality of $\\boldsymbol{\\theta}$ is 5\n"
   ]
  },
  {
   "cell_type": "markdown",
   "id": "69ceb67a",
   "metadata": {},
   "source": [
    "#### (e)\n",
    "\n",
    "Linearity with respect to the parameters is interpreted as if the $\\boldsymbol{x}$ vector is constant. None of these equations are linear with respect to $\\boldsymbol{x}$ as there are terms such as $x^2$.\n",
    "\n",
    "(a), (b) and (c) can be written in the general form of $ f_{\\theta}(x) = \\boldsymbol{\\theta}^T \\boldsymbol{x}$ where $\\boldsymbol{\\theta} = [\\matrix{\\theta_0&\\theta_1&\\theta_2&...&\\theta_N}]^T$ and as such $f_{\\theta}(x)$ is linear with respect to  $\\boldsymbol\\theta$"
   ]
  },
  {
   "cell_type": "markdown",
   "id": "86bbe94f",
   "metadata": {},
   "source": [
    "## Excercise 4"
   ]
  },
  {
   "cell_type": "markdown",
   "id": "7cbafcc4",
   "metadata": {},
   "source": [
    "$ \\boldsymbol{\\theta} = [\\theta_1, \\theta_2, ... , \\theta_l]^T$  \n",
    "$ \\boldsymbol{x} = [x_1, x_2, ... , x_l]^T$  \n",
    "\n",
    "$ (\\boldsymbol{\\theta}^T \\boldsymbol{x})\\boldsymbol{x} = (\\theta_1 x_1 + \\theta_2 x_2+ ... + \\theta_l x_l) \\boldsymbol{x} = \\left[\\matrix{x_1 (\\theta_1 x_1 + \\theta_2 x_2+ ... + \\theta_l x_l) \\\\x_2 (\\theta_1 x_1 + \\theta_2 x_2+ ... + \\theta_l x_l)\\\\\\vdots\\\\x_l (\\theta_1 x_1 + \\theta_2 x_2+ ... + \\theta_l x_l)}\\right] $\n",
    "\n",
    "$(\\boldsymbol{x}\\boldsymbol{x}^T)\\boldsymbol{\\theta} = \\left[\\matrix{x_1^2&x_1 x_2& ...& x_1 x_l \\\\ x_2 x_1 &x_2^2& ...& x_2 x_l\\\\ \\vdots&\\vdots&\\ddots\\\\x_l x_1 &x_l x_2& ...& x_l^2}\\right] \\left[\\matrix{\\theta_1\\\\\\theta_2\\\\ \\vdots\\\\\\theta_l} \\right] = \\left[\\matrix{x_1^2 \\theta_1 + x_1 x_2 \\theta_2 + ... + x_1 x_l \\theta_l \\\\ x_2 x_1 \\theta_1 + x_2^2 \\theta_2 + ... + x_2 x_l \\theta_l \\\\ \\vdots \\\\ x_l x_1 \\theta_1 + x_l x_2 \\theta_2 + ... + x_l^2 \\theta_l}\\right] = \\left[\\matrix{x_1 (\\theta_1 x_1 + \\theta_2 x_2+ ... + \\theta_l x_l) \\\\x_2 (\\theta_1 x_1 + \\theta_2 x_2+ ... + \\theta_l x_l)\\\\\\vdots\\\\x_l (\\theta_1 x_1 + \\theta_2 x_2+ ... + \\theta_l x_l)}\\right] $  \n",
    "\n",
    "Thus $ (\\boldsymbol{\\theta}^T \\boldsymbol{x})\\boldsymbol{x} = (\\boldsymbol{x}\\boldsymbol{x}^T)\\boldsymbol{\\theta}$\n"
   ]
  },
  {
   "cell_type": "markdown",
   "id": "316e11d9",
   "metadata": {},
   "source": [
    "## Excercise 5"
   ]
  },
  {
   "cell_type": "markdown",
   "id": "82d272ac",
   "metadata": {},
   "source": [
    "#### (a)"
   ]
  },
  {
   "cell_type": "markdown",
   "id": "fe423358",
   "metadata": {},
   "source": [
    "$ X^T X = \\sum_{n=1}^N (\\boldsymbol{x}_n \\boldsymbol{x}_n^T)$"
   ]
  },
  {
   "cell_type": "markdown",
   "id": "2e0aab71",
   "metadata": {},
   "source": [
    "$X^T = \\left[\\matrix{x_{11}&x_{21}&...&x_{N1}\\\\\n",
    "                        x_{12}&x_{22}&...&x_{N2}\\\\\n",
    "                        \\vdots&\\vdots&\\ddots\\\\\n",
    "                        x_{1l}&x_{2l}&...&x_{Nl}}\\right]= \\left[\\matrix{\\boldsymbol{x}_1&\\boldsymbol{x}_2&...&\\boldsymbol{x}_N}\\right]$"
   ]
  },
  {
   "cell_type": "markdown",
   "id": "1467b90e",
   "metadata": {},
   "source": [
    "$ X^T X = \\left[\\matrix{\\boldsymbol{x}_1&\\boldsymbol{x}_2&...&\\boldsymbol{x}_N}\\right] \\left[\\matrix{\\boldsymbol{x}_1^T\\\\\\boldsymbol{x}_2^T\\\\\\vdots\\\\\\boldsymbol{x}_N^T}\\right] = \\boldsymbol{x}_1 \\boldsymbol{x}_1^T + \\boldsymbol{x}_2 \\boldsymbol{x}_2^T + ... +\\boldsymbol{x}_N \\boldsymbol{x}_N^T = \\sum_{n=1}^N (\\boldsymbol{x}_n \\boldsymbol{x}_n^T) $"
   ]
  },
  {
   "cell_type": "markdown",
   "id": "954c81b8",
   "metadata": {},
   "source": [
    "$ X^T \\boldsymbol{y} = \\left[ \\matrix{\\boldsymbol{x}_1& \\boldsymbol{x}_2&...& \\boldsymbol{x}_N} \\right] \\left[\\matrix{y_1\\\\y_2\\\\\\vdots \\\\ y_N}\\right] =\\boldsymbol{x}_1 y_1 + \\boldsymbol{x}_2 + y_2 + ... + \\boldsymbol{x}_N y_n = $ (since $y_n$ is a scalar we can use the commutative property)   $ = y_1 \\boldsymbol{x}_1 + y_2 \\boldsymbol{x}_2 + ...+y_N \\boldsymbol{x}_N = \\sum_{n=1}^N (y_n \\boldsymbol{x}_n)$"
   ]
  },
  {
   "cell_type": "markdown",
   "id": "a791f4dd",
   "metadata": {},
   "source": [
    "#### (b)\n",
    "X size is (N x l)  \n",
    "$\\boldsymbol{y}$ size is (N x 1)   \n",
    "$X^T X$ size is (l x N) x (N x l) = (l x l)  \n",
    "$X^T \\boldsymbol{y}$ size is (l x N) x (N x 1) = (l x 1)  "
   ]
  },
  {
   "cell_type": "markdown",
   "id": "954dd17f",
   "metadata": {},
   "source": [
    "#### (c)\n",
    "Since a column vector of 1's is added in from of the matrix X the new X table will be:  \n",
    "$ X = \\left[\\matrix{1&x_{11}&x_{12}&...&x_{1l}\\\\\n",
    "                        1&x_{21}&x_{22}&...&x_{2l}\\\\\n",
    "                        \\vdots&\\vdots&\\vdots&\\ddots\\\\\n",
    "                        1&x_{N1}&x_{N2}&...&x_{Nl}}\\right]$ with dimensions (N x (l+1))  \n",
    "\n",
    "##### (c-i)  \n",
    "thus the dimensionality of the b) will become  \n",
    "X size is (N x (l+1))  \n",
    "$\\boldsymbol{y}$ size is (N x 1)   \n",
    "$X^T X$ size is ((l+1) x N) x (N x (l+1)) = ((l+1) x (l+1))  \n",
    "$X^T \\boldsymbol{y}$ size is ((l+1) x N) x (N x 1) = (l+1) x 1 \n"
   ]
  },
  {
   "cell_type": "markdown",
   "id": "4ca46d32",
   "metadata": {},
   "source": [
    "##### (c-ii)\n",
    "The identities given in (a) hold. In detail:    \n",
    "We define $\\boldsymbol{x}_n = [\\matrix{1&x_{n1}&x_{n2}&...&x_{nl}}]^T$ with dimensions ((l+1) x 1). Then the calculations from (a) apply  \n",
    "$X^T X = \\left[\\matrix{\\boldsymbol{x}_1&\\boldsymbol{x}_2&...&\\boldsymbol{x}_N}\\right] \\left[\\matrix{\\boldsymbol{x}_1^T\\\\\\boldsymbol{x}_2^T\\\\\\vdots\\\\\\boldsymbol{x}_N^T}\\right]$ and $X^T \\boldsymbol{y} = \\left[ \\matrix{\\boldsymbol{x}_1& \\boldsymbol{x}_2&...& \\boldsymbol{x}_N} \\right] \\left[\\matrix{y_1\\\\y_2\\\\\\vdots \\\\ y_N}\\right]$  \n"
   ]
  },
  {
   "cell_type": "markdown",
   "id": "f787aa0e",
   "metadata": {},
   "source": [
    "## Excercise 6"
   ]
  },
  {
   "cell_type": "markdown",
   "id": "4ef1aefe",
   "metadata": {},
   "source": [
    "#### (a)\n",
    "The equation describing the velocity is $v = v_0 + a t$.  \n",
    "We can express this set of equations using matrices as: \n",
    "\n",
    "$ y = \\boldsymbol{\\theta}^T \\boldsymbol{x}$ or $\\boldsymbol{y} = X \\boldsymbol{\\theta}$  where $ X = \\left[\\matrix{1&1\\\\1&2\\\\1&3\\\\1&4\\\\1&5}\\right],  \n",
    "\\boldsymbol{\\theta} = \\left[\\matrix{v_0\\\\a}\\right], \n",
    "\\boldsymbol{y} = \\left[\\matrix{5.1\\\\6.8\\\\9.2\\\\10.9\\\\13.1}\\right] $ "
   ]
  },
  {
   "cell_type": "markdown",
   "id": "d8536b1a",
   "metadata": {},
   "source": [
    "We need to solve the system:  \n",
    "\n",
    "$ (X^T X) \\boldsymbol{\\theta} = X^T \\boldsymbol{y}$ \n",
    "\n",
    "$ X^T X = \\left[\\matrix{5&15\\\\15&55}\\right]$  \n",
    "\n",
    "$ X^T \\boldsymbol{y} = \\left[\\matrix{45.1\\\\172.1}\\right]$   \n",
    "\n",
    "$\\left[\\matrix{5&15\\\\15&55}\\right] \\left[\\matrix{v_0\\\\a}\\right] = \\left[\\matrix{45.1\\\\155.4}\\right]$  \n",
    "\n",
    "1st equation: $ 5 v_0 + 15 a = 45.1 $   \n",
    "2nd equation: $ 15 v_0 + 55 a = 155.4 $\n",
    "\n",
    "\n",
    "Thus : $v_0 = 2.99$ and $a = 2.01$"
   ]
  },
  {
   "cell_type": "markdown",
   "id": "4ab62021",
   "metadata": {},
   "source": [
    "#### (b)\n",
    "\n",
    "$ v = 2.99 + 2.01 t$"
   ]
  },
  {
   "cell_type": "markdown",
   "id": "4d75c2bd",
   "metadata": {},
   "source": [
    "#### (c)\n",
    "\n",
    "$ v = 2.99 + 2.01\\cdot2.3 = 7.613$"
   ]
  },
  {
   "cell_type": "code",
   "execution_count": 46,
   "id": "5749ccf9",
   "metadata": {},
   "outputs": [
    {
     "data": {
      "image/png": "[encoded data removed]",
      "text/plain": [
       "<Figure size 432x288 with 1 Axes>"
      ]
     },
     "metadata": {
      "needs_background": "light"
     },
     "output_type": "display_data"
    }
   ],
   "source": [
    "import matplotlib.pyplot as plt\n",
    "x = np.array([1,2,3,4,5])\n",
    "y = np.array([5.1,6.8,9.2,10.9,13.1])\n",
    "\n",
    "y_2 = 2.99 + 2.01*x\n",
    "\n",
    "plt.scatter(x, y)\n",
    "_=plt.plot(x, y_2, color='red', linestyle='-', marker='', label='Line of Best Fit')\n"
   ]
  }
 ],
 "metadata": {
  "kernelspec": {
   "display_name": "Python 3 (ipykernel)",
   "language": "python",
   "name": "python3"
  },
  "language_info": {
   "codemirror_mode": {
    "name": "ipython",
    "version": 3
   },
   "file_extension": ".py",
   "mimetype": "text/x-python",
   "name": "python",
   "nbconvert_exporter": "python",
   "pygments_lexer": "ipython3",
   "version": "3.12.2"
  }
 },
 "nbformat": 4,
 "nbformat_minor": 5
}
